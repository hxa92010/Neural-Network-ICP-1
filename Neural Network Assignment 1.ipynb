{
 "cells": [
  {
   "cell_type": "code",
   "execution_count": 9,
   "metadata": {},
   "outputs": [
    {
     "name": "stdout",
     "output_type": "stream",
     "text": [
      "Enter a string python\n",
      "The original string is : python\n",
      "Enter first character to delete h\n",
      "Enter second character to delete o\n",
      "String after deleting two characters and reversing is  ntyp \n"
     ]
    }
   ],
   "source": [
    "def reverse(strn):\n",
    "    str = \" \"\n",
    "    for i in strn:\n",
    "        str = i + str \n",
    "    return str\n",
    "def deletechars():\n",
    "    first_char = str(input(\"Enter first character to delete \"))\n",
    "    h = strn.replace(first_char, '')\n",
    "    second_char = str(input(\"Enter second character to delete \"))\n",
    "    j=h.replace(second_char,'')\n",
    "    return print(\"String after deleting two characters and reversing is \", reverse(j))\n",
    "strn = str(input(\"Enter a string \"))\n",
    "print(\"The original string is : \", end =\"\")\n",
    "print(strn)\n",
    "deletechars()"
   ]
  },
  {
   "cell_type": "code",
   "execution_count": 2,
   "metadata": {},
   "outputs": [
    {
     "name": "stdout",
     "output_type": "stream",
     "text": [
      "Enter first number: 20\n",
      "Enter second number10\n",
      "The Addition of given numbers is 30\n",
      "The Substraction of given numbers is 10\n",
      "The Multiplication of given numbers is 200\n",
      "The Division of given numbers is 2.0\n"
     ]
    }
   ],
   "source": [
    "num1 = int(input(\"Enter first number: \"))\n",
    "num2 = int(input(\"Enter second number\"))\n",
    "print(\"The Addition of given numbers is\", num1 + num2)\n",
    "print(\"The Substraction of given numbers is\", num1 - num2)\n",
    "print(\"The Multiplication of given numbers is\", num1 * num2)\n",
    "print(\"The Division of given numbers is\", num1 / num2)"
   ]
  },
  {
   "cell_type": "code",
   "execution_count": 3,
   "metadata": {},
   "outputs": [
    {
     "name": "stdout",
     "output_type": "stream",
     "text": [
      "Please enter the sentence I love playing with python\n",
      "sentence is : I love playing with python\n",
      "I love playing with pythons\n"
     ]
    }
   ],
   "source": [
    "sentence=str(input(\"Please enter the sentence \"))\n",
    "old=\"python\"\n",
    "new=\"pythons\"\n",
    "print(\"sentence is :\", sentence)\n",
    "def replacepythonwithpythons(sentence, old, new):\n",
    "    return sentence.replace(old, new)\n",
    "print(replacepythonwithpythons(sentence, old, new))"
   ]
  },
  {
   "cell_type": "code",
   "execution_count": 2,
   "metadata": {},
   "outputs": [
    {
     "name": "stdout",
     "output_type": "stream",
     "text": [
      "Enter Score 90\n",
      "Grade A\n"
     ]
    }
   ],
   "source": [
    "score=int(input(\"Enter Score \"))\n",
    "if score>=90 and score<=100:\n",
    "    print(\"Grade A\")\n",
    "elif score>=80 and score<=89:\n",
    "    print(\"Grade B\")\n",
    "elif score>=70 and score<=79:\n",
    "    print(\"Grade C\")\n",
    "elif score>=60 and score<=69:\n",
    "    print(\"Grade C\")\n",
    "else:\n",
    "    print(\"Fail\")"
   ]
  },
  {
   "cell_type": "code",
   "execution_count": null,
   "metadata": {},
   "outputs": [],
   "source": []
  }
 ],
 "metadata": {
  "kernelspec": {
   "display_name": "Python 3",
   "language": "python",
   "name": "python3"
  },
  "language_info": {
   "codemirror_mode": {
    "name": "ipython",
    "version": 3
   },
   "file_extension": ".py",
   "mimetype": "text/x-python",
   "name": "python",
   "nbconvert_exporter": "python",
   "pygments_lexer": "ipython3",
   "version": "3.7.4"
  }
 },
 "nbformat": 4,
 "nbformat_minor": 2
}
